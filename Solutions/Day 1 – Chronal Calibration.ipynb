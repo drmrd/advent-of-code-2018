{
 "cells": [
  {
   "cell_type": "markdown",
   "metadata": {},
   "source": [
    "# Prologue\n",
    "## Day 1: Chronal Calibration\n",
    "\n",
    "\"We've detected some temporal anomalies,\" one of Santa's Elves at the Temporal Anomaly Research and Detection Instrument Station tells you. She sounded pretty worried when she called you down here. \"At 500-year intervals into the past, someone has been changing Santa's history!\"\n",
    "\n",
    "\"The good news is that the changes won't propagate to our time stream for another 25 days, and we have a device\" - she attaches something to your wrist - \"that will let you fix the changes with no such propagation delay. It's configured to send you 500 years further into the past every few days; that was the best we could do on such short notice.\"\n",
    "\n",
    "\"The bad news is that we are detecting roughly fifty anomalies throughout time; the device will indicate fixed anomalies with stars. The other bad news is that we only have one device and you're the best person for the job! Good lu--\" She taps a button on the device and you suddenly feel like you're falling. To save Christmas, you need to get all fifty stars by December 25th.\n",
    "\n",
    "Collect stars by solving puzzles. Two puzzles will be made available on each day in the advent calendar; the second puzzle is unlocked when you complete the first. Each puzzle grants one star. Good luck!"
   ]
  },
  {
   "cell_type": "markdown",
   "metadata": {},
   "source": [
    "# Part 1"
   ]
  },
  {
   "cell_type": "markdown",
   "metadata": {},
   "source": [
    "After feeling like you've been falling for a few minutes, you look at the device's tiny screen. \"Error: Device must be calibrated before first use. Frequency drift detected. Cannot maintain destination lock.\" Below the message, the device shows a sequence of changes in frequency (your puzzle input). A value like +6 means the current frequency increases by 6; a value like -3 means the current frequency decreases by 3.\n",
    "\n",
    "For example, if the device displays frequency changes of +1, -2, +3, +1, then starting from a frequency of zero, the following changes would occur:\n",
    "\n",
    "    Current frequency  0, change of +1; resulting frequency  1.\n",
    "    Current frequency  1, change of -2; resulting frequency -1.\n",
    "    Current frequency -1, change of +3; resulting frequency  2.\n",
    "    Current frequency  2, change of +1; resulting frequency  3.\n",
    "\n",
    "In this example, the resulting frequency is 3.\n",
    "\n",
    "Here are other example situations:\n",
    "\n",
    "    +1, +1, +1 results in  3\n",
    "    +1, +1, -2 results in  0\n",
    "    -1, -2, -3 results in -6\n",
    "\n",
    "Starting with a frequency of zero, what is the resulting frequency after all of the changes in frequency have been applied?"
   ]
  },
  {
   "cell_type": "code",
   "execution_count": 1,
   "metadata": {},
   "outputs": [],
   "source": [
    "import pandas as pd\n",
    "\n",
    "input_data = pd.read_table('../Input Data/Day 1, Part 1.txt', header=None, names=['frequency_change'])"
   ]
  },
  {
   "cell_type": "code",
   "execution_count": 2,
   "metadata": {},
   "outputs": [],
   "source": [
    "def day_1_part_1_solution(input_data=input_data):\n",
    "    return input_data.frequency_change.sum()"
   ]
  },
  {
   "cell_type": "code",
   "execution_count": 3,
   "metadata": {},
   "outputs": [
    {
     "data": {
      "text/plain": [
       "427"
      ]
     },
     "execution_count": 3,
     "metadata": {},
     "output_type": "execute_result"
    }
   ],
   "source": [
    "day_1_part_1_solution()"
   ]
  },
  {
   "cell_type": "code",
   "execution_count": 4,
   "metadata": {},
   "outputs": [
    {
     "name": "stdout",
     "output_type": "stream",
     "text": [
      "75.4 µs ± 3.75 µs per loop (mean ± std. dev. of 7 runs, 10000 loops each)\n"
     ]
    }
   ],
   "source": [
    "%timeit day_1_part_1_solution()"
   ]
  },
  {
   "cell_type": "markdown",
   "metadata": {},
   "source": [
    "# Part 2\n",
    "You notice that the device repeats the same frequency change list over and over. To calibrate the device, you need to find the first frequency it reaches twice.\n",
    "\n",
    "For example, using the same list of changes above, the device would loop as follows:\n",
    "\n",
    "    Current frequency  0, change of +1; resulting frequency  1.\n",
    "    Current frequency  1, change of -2; resulting frequency -1.\n",
    "    Current frequency -1, change of +3; resulting frequency  2.\n",
    "    Current frequency  2, change of +1; resulting frequency  3.\n",
    "    (At this point, the device continues from the start of the list.)\n",
    "    Current frequency  3, change of +1; resulting frequency  4.\n",
    "    Current frequency  4, change of -2; resulting frequency  2, which has already been seen.\n",
    "\n",
    "In this example, the first frequency reached twice is 2. Note that your device might need to repeat its list of frequency changes many times before a duplicate frequency is found, and that duplicates might be found while in the middle of processing the list.\n",
    "\n",
    "Here are other examples:\n",
    "\n",
    "    +1, -1 first reaches 0 twice.\n",
    "    +3, +3, +4, -2, -4 first reaches 10 twice.\n",
    "    -6, +3, +8, +5, -6 first reaches 5 twice.\n",
    "    +7, +7, -2, -7, -4 first reaches 14 twice.\n",
    "\n",
    "What is the first frequency your device reaches twice?"
   ]
  },
  {
   "cell_type": "code",
   "execution_count": 5,
   "metadata": {},
   "outputs": [],
   "source": [
    "def frequency_history(starting_frequency, cumulative_frequency_changes):\n",
    "    return pd.Series(starting_frequency + cumulative_frequency_changes, name='frequency')\n",
    "\n",
    "\n",
    "def generate_frequency_history_cycle(initial_history, cumulative_frequency_changes):\n",
    "    history = initial_history.copy()\n",
    "    while ~history.duplicated(keep=False).any():\n",
    "        history = history.append(frequency_history(history.iloc[-1], cumulative_frequency_changes))\n",
    "    return history.reset_index(drop=True)\n",
    "\n",
    "\n",
    "def day_1_part_2_solution(input_data=input_data):\n",
    "    initial_history = input_data.frequency_change.cumsum().rename('frequency')\n",
    "    cumulative_frequency_changes = initial_history.copy()\n",
    "    \n",
    "    history = generate_frequency_history_cycle(initial_history, cumulative_frequency_changes)\n",
    "    return history[history.duplicated(keep='first')].iloc[0]"
   ]
  },
  {
   "cell_type": "code",
   "execution_count": 6,
   "metadata": {},
   "outputs": [
    {
     "data": {
      "text/plain": [
       "341"
      ]
     },
     "execution_count": 6,
     "metadata": {},
     "output_type": "execute_result"
    }
   ],
   "source": [
    "day_1_part_2_solution()"
   ]
  },
  {
   "cell_type": "code",
   "execution_count": 7,
   "metadata": {},
   "outputs": [
    {
     "name": "stdout",
     "output_type": "stream",
     "text": [
      "629 ms ± 5.01 ms per loop (mean ± std. dev. of 7 runs, 1 loop each)\n"
     ]
    }
   ],
   "source": [
    "%timeit day_1_part_2_solution()"
   ]
  }
 ],
 "metadata": {
  "kernelspec": {
   "display_name": "Python 3",
   "language": "python",
   "name": "python3"
  },
  "language_info": {
   "codemirror_mode": {
    "name": "ipython",
    "version": 3
   },
   "file_extension": ".py",
   "mimetype": "text/x-python",
   "name": "python",
   "nbconvert_exporter": "python",
   "pygments_lexer": "ipython3",
   "version": "3.7.0"
  }
 },
 "nbformat": 4,
 "nbformat_minor": 2
}
